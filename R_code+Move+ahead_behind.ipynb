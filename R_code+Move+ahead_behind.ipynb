{
 "cells": [
  {
   "cell_type": "markdown",
   "metadata": {},
   "source": [
    "# R code interview\n",
    "\n",
    "# Bài toán 2: Phân cụm và di dời trong vector\n",
    "\n",
    "\n",
    "### Lê Ngọc Khả Nhi\n",
    "\n",
    "# Giới thiệu\n",
    "\n",
    "Đây là bài thứ 2 trong Series giải một số bài toán Code interview bằng ngôn ngữ R. Hôm nay chúng ta tiếp tục khai thác chủ đề vector, trong 1 bài toán tương đối khó với yêu cầu như sau:\n",
    "\n",
    "Cho một vector V chứa n con số, và một giá trị mục tiêu, hãy viết 2 hàm bằng ngôn ngữ R để tìm tất cả những con số trong V có giá trị bằng với mục tiêu, gom chúng lại thành một cụm và di dời toàn bộ cụm này về đầu hoặc cuối vector.\n",
    "\n",
    "# Phân tích bài toán\n",
    "\n",
    "Dữ liệu đầu vào của hàm là 1 vector, thí dụ: vect = c(0, 1, 2, 5, 5, 3, 4, 6, 7, 5, 8, 9, 10, 11, 5, 5, 12) và 1 giá trị mục tiêu (target), thí dụ target = 5\n",
    "\n",
    "Kết quả đầu ra là 1 vector mới, trong đó toàn bộ phần tử có giá trị = 5 được di dời về đầu hoặc cuối vector:\n",
    "\n",
    "Về cuối: [0  1  2 12 11  3  4  6  7 10  8  9  5  5  5  5  5]\n",
    "Về đầu [5  5  5  5  5  3  4  6  7  2  8  9 10 11  1  0 12]\n",
    "\n",
    "Nhận xét: Những giá trị còn lại (khác với target) vẫn giữ nguyên thứ tự ban đầu\n",
    "\n",
    "# Định hướng giải quyết\n",
    "\n",
    "Nhận xét: Hai yêu cầu (di chuyển về đầu/ về cuối) có cùng bản chất, nếu giải quyết được cái này thì cũng làm được cái kia theo cùng một cách.\n",
    "\n",
    "Thực ra ta không làm việc \"phân cụm\", nhưng di dời mới là việc cần quan tâm, ta chỉ di dời từng phần tử một, cụm chính là kết quả cuối cùng của việc di dời.\n",
    "\n",
    "Ta xét bài toán thứ 1: nhận diện và di dời về đầu vector\n",
    "\n",
    "Trên vector có 2 hướng: đầu (head) và cuối (queue), ta có thể dùng 2 pointer h, q :\n",
    "\n",
    "1) pointer h khởi đầu ở vị trí đầu tiên: h=1, và di chuyển về bên phải, công dụng để kiểm tra xem giá trị mục tiêu có phải đang ở đầu vector hay không (vì nếu đúng, ta không phải làm gì cả, chỉ cần tiếp tục tiến sang phải 1 vị trí : h+1)\n",
    "\n",
    "2) pointer q khởi đầu ở vị trí cuối cùng = length(vect), và di chuyển sang trái, \n",
    "công dụng là để nhận diện 1 phần tử có giá trị = mục tiêu, nhưng đang nằm ở cuối vector (cần di dời về đầu)\n",
    "\n",
    "3) Việc di dời chính là hoán đổi h thành q, và ngược lại q thành h\n",
    "\n",
    "Lưu ý: ta cần 1 vector tạm thời để thực hiện hoán chuyển h,q, nhưng có thể xóa nó một khi hoán chuyển xong, vì ngôn ngữ R không cho phép hoán chuyển trực tiếp vect[h], vect[q] = vect[q], vect[h] như khi dùng Python tuples)\n",
    "\n",
    "4) Khi h và q giao nhau (hay h == q), cho thấy ta đã kiểm tra xong tất cả phần tử trong vector\n",
    "\n",
    "5) Khi nào h còn ở bên trái q: (h < q), ta còn phải tiếp tục quy trình.\n",
    "\n",
    "Ta có thể dùng 2 vòng lặp while lồng vào nhau để làm quy trình này"
   ]
  },
  {
   "cell_type": "markdown",
   "metadata": {},
   "source": [
    "# Di dời về đầu "
   ]
  },
  {
   "cell_type": "code",
   "execution_count": 1,
   "metadata": {
    "collapsed": true
   },
   "outputs": [],
   "source": [
    "move_ahead = function(vect, target){\n",
    "  h = 1\n",
    "  q = length(vect)\n",
    "  \n",
    "  while (h < q){\n",
    "    while ((h < q) & (vect[h] == target)){\n",
    "      h <- h + 1\n",
    "      }\n",
    "    if (vect[q] == target){\n",
    "        vect_t <- vect\n",
    "        vect_t[h] <- vect[q]\n",
    "        vect_t[q] <- vect[h]\n",
    "        vect <- vect_t\n",
    "        rm(vect_t)\n",
    "        }\n",
    "    q <- q - 1 \n",
    "    }\n",
    "  return(vect)\n",
    "  }"
   ]
  },
  {
   "cell_type": "markdown",
   "metadata": {},
   "source": [
    "# Di dời về cuối\n",
    "\n",
    "Bài toán thứ 2: di dời về cuối , ta chỉ cần làm ngược lại quy trình trên là giải quyết được:"
   ]
  },
  {
   "cell_type": "code",
   "execution_count": 2,
   "metadata": {
    "collapsed": true
   },
   "outputs": [],
   "source": [
    "move_behind = function(vect, target){\n",
    "  h = 1\n",
    "  q = length(vect)\n",
    "  \n",
    "  while (h < q){\n",
    "    while ((h < q) & (vect[q] == target)){\n",
    "      q <- q - 1\n",
    "    }\n",
    "    if (vect[h] == target){\n",
    "      vect_t <- vect\n",
    "      vect_t[h] <- vect[q]\n",
    "      vect_t[q] <- vect[h]\n",
    "      vect <- vect_t\n",
    "      rm(vect_t)\n",
    "    }\n",
    "    h <- h + 1 \n",
    "  }\n",
    "  return(vect)\n",
    "}\n"
   ]
  },
  {
   "cell_type": "markdown",
   "metadata": {},
   "source": [
    "# Kiểm tra đáp án"
   ]
  },
  {
   "cell_type": "code",
   "execution_count": 3,
   "metadata": {
    "collapsed": true
   },
   "outputs": [],
   "source": [
    "vect = c(0, 1, 2, 5, 5, 3, 4, 6, 7, 5, 8, 9, 10, 11, 5, 5, 12)\n",
    "\n",
    "target = 5"
   ]
  },
  {
   "cell_type": "code",
   "execution_count": 4,
   "metadata": {
    "collapsed": false
   },
   "outputs": [
    {
     "data": {
      "text/html": [
       "<ol class=list-inline>\n",
       "\t<li>5</li>\n",
       "\t<li>5</li>\n",
       "\t<li>5</li>\n",
       "\t<li>5</li>\n",
       "\t<li>5</li>\n",
       "\t<li>3</li>\n",
       "\t<li>4</li>\n",
       "\t<li>6</li>\n",
       "\t<li>7</li>\n",
       "\t<li>2</li>\n",
       "\t<li>8</li>\n",
       "\t<li>9</li>\n",
       "\t<li>10</li>\n",
       "\t<li>11</li>\n",
       "\t<li>1</li>\n",
       "\t<li>0</li>\n",
       "\t<li>12</li>\n",
       "</ol>\n"
      ],
      "text/latex": [
       "\\begin{enumerate*}\n",
       "\\item 5\n",
       "\\item 5\n",
       "\\item 5\n",
       "\\item 5\n",
       "\\item 5\n",
       "\\item 3\n",
       "\\item 4\n",
       "\\item 6\n",
       "\\item 7\n",
       "\\item 2\n",
       "\\item 8\n",
       "\\item 9\n",
       "\\item 10\n",
       "\\item 11\n",
       "\\item 1\n",
       "\\item 0\n",
       "\\item 12\n",
       "\\end{enumerate*}\n"
      ],
      "text/markdown": [
       "1. 5\n",
       "2. 5\n",
       "3. 5\n",
       "4. 5\n",
       "5. 5\n",
       "6. 3\n",
       "7. 4\n",
       "8. 6\n",
       "9. 7\n",
       "10. 2\n",
       "11. 8\n",
       "12. 9\n",
       "13. 10\n",
       "14. 11\n",
       "15. 1\n",
       "16. 0\n",
       "17. 12\n",
       "\n",
       "\n"
      ],
      "text/plain": [
       " [1]  5  5  5  5  5  3  4  6  7  2  8  9 10 11  1  0 12"
      ]
     },
     "metadata": {},
     "output_type": "display_data"
    }
   ],
   "source": [
    "move_ahead(vect, target)"
   ]
  },
  {
   "cell_type": "code",
   "execution_count": 5,
   "metadata": {
    "collapsed": false
   },
   "outputs": [
    {
     "data": {
      "text/html": [
       "<ol class=list-inline>\n",
       "\t<li>0</li>\n",
       "\t<li>1</li>\n",
       "\t<li>2</li>\n",
       "\t<li>12</li>\n",
       "\t<li>11</li>\n",
       "\t<li>3</li>\n",
       "\t<li>4</li>\n",
       "\t<li>6</li>\n",
       "\t<li>7</li>\n",
       "\t<li>10</li>\n",
       "\t<li>8</li>\n",
       "\t<li>9</li>\n",
       "\t<li>5</li>\n",
       "\t<li>5</li>\n",
       "\t<li>5</li>\n",
       "\t<li>5</li>\n",
       "\t<li>5</li>\n",
       "</ol>\n"
      ],
      "text/latex": [
       "\\begin{enumerate*}\n",
       "\\item 0\n",
       "\\item 1\n",
       "\\item 2\n",
       "\\item 12\n",
       "\\item 11\n",
       "\\item 3\n",
       "\\item 4\n",
       "\\item 6\n",
       "\\item 7\n",
       "\\item 10\n",
       "\\item 8\n",
       "\\item 9\n",
       "\\item 5\n",
       "\\item 5\n",
       "\\item 5\n",
       "\\item 5\n",
       "\\item 5\n",
       "\\end{enumerate*}\n"
      ],
      "text/markdown": [
       "1. 0\n",
       "2. 1\n",
       "3. 2\n",
       "4. 12\n",
       "5. 11\n",
       "6. 3\n",
       "7. 4\n",
       "8. 6\n",
       "9. 7\n",
       "10. 10\n",
       "11. 8\n",
       "12. 9\n",
       "13. 5\n",
       "14. 5\n",
       "15. 5\n",
       "16. 5\n",
       "17. 5\n",
       "\n",
       "\n"
      ],
      "text/plain": [
       " [1]  0  1  2 12 11  3  4  6  7 10  8  9  5  5  5  5  5"
      ]
     },
     "metadata": {},
     "output_type": "display_data"
    }
   ],
   "source": [
    "move_behind(vect, target)"
   ]
  },
  {
   "cell_type": "code",
   "execution_count": 6,
   "metadata": {
    "collapsed": true
   },
   "outputs": [],
   "source": [
    "vect = c(0,0,1,0,1,0,1,0,1,1,0,1,0,0,0,1,0)\n",
    "\n",
    "target = 0"
   ]
  },
  {
   "cell_type": "code",
   "execution_count": 7,
   "metadata": {
    "collapsed": false
   },
   "outputs": [
    {
     "data": {
      "text/html": [
       "<ol class=list-inline>\n",
       "\t<li>0</li>\n",
       "\t<li>0</li>\n",
       "\t<li>0</li>\n",
       "\t<li>0</li>\n",
       "\t<li>0</li>\n",
       "\t<li>0</li>\n",
       "\t<li>0</li>\n",
       "\t<li>0</li>\n",
       "\t<li>0</li>\n",
       "\t<li>0</li>\n",
       "\t<li>1</li>\n",
       "\t<li>1</li>\n",
       "\t<li>1</li>\n",
       "\t<li>1</li>\n",
       "\t<li>1</li>\n",
       "\t<li>1</li>\n",
       "\t<li>1</li>\n",
       "</ol>\n"
      ],
      "text/latex": [
       "\\begin{enumerate*}\n",
       "\\item 0\n",
       "\\item 0\n",
       "\\item 0\n",
       "\\item 0\n",
       "\\item 0\n",
       "\\item 0\n",
       "\\item 0\n",
       "\\item 0\n",
       "\\item 0\n",
       "\\item 0\n",
       "\\item 1\n",
       "\\item 1\n",
       "\\item 1\n",
       "\\item 1\n",
       "\\item 1\n",
       "\\item 1\n",
       "\\item 1\n",
       "\\end{enumerate*}\n"
      ],
      "text/markdown": [
       "1. 0\n",
       "2. 0\n",
       "3. 0\n",
       "4. 0\n",
       "5. 0\n",
       "6. 0\n",
       "7. 0\n",
       "8. 0\n",
       "9. 0\n",
       "10. 0\n",
       "11. 1\n",
       "12. 1\n",
       "13. 1\n",
       "14. 1\n",
       "15. 1\n",
       "16. 1\n",
       "17. 1\n",
       "\n",
       "\n"
      ],
      "text/plain": [
       " [1] 0 0 0 0 0 0 0 0 0 0 1 1 1 1 1 1 1"
      ]
     },
     "metadata": {},
     "output_type": "display_data"
    }
   ],
   "source": [
    "move_ahead(vect, target)"
   ]
  },
  {
   "cell_type": "code",
   "execution_count": 8,
   "metadata": {
    "collapsed": false
   },
   "outputs": [
    {
     "data": {
      "text/html": [
       "<ol class=list-inline>\n",
       "\t<li>1</li>\n",
       "\t<li>1</li>\n",
       "\t<li>1</li>\n",
       "\t<li>1</li>\n",
       "\t<li>1</li>\n",
       "\t<li>1</li>\n",
       "\t<li>1</li>\n",
       "\t<li>0</li>\n",
       "\t<li>0</li>\n",
       "\t<li>0</li>\n",
       "\t<li>0</li>\n",
       "\t<li>0</li>\n",
       "\t<li>0</li>\n",
       "\t<li>0</li>\n",
       "\t<li>0</li>\n",
       "\t<li>0</li>\n",
       "\t<li>0</li>\n",
       "</ol>\n"
      ],
      "text/latex": [
       "\\begin{enumerate*}\n",
       "\\item 1\n",
       "\\item 1\n",
       "\\item 1\n",
       "\\item 1\n",
       "\\item 1\n",
       "\\item 1\n",
       "\\item 1\n",
       "\\item 0\n",
       "\\item 0\n",
       "\\item 0\n",
       "\\item 0\n",
       "\\item 0\n",
       "\\item 0\n",
       "\\item 0\n",
       "\\item 0\n",
       "\\item 0\n",
       "\\item 0\n",
       "\\end{enumerate*}\n"
      ],
      "text/markdown": [
       "1. 1\n",
       "2. 1\n",
       "3. 1\n",
       "4. 1\n",
       "5. 1\n",
       "6. 1\n",
       "7. 1\n",
       "8. 0\n",
       "9. 0\n",
       "10. 0\n",
       "11. 0\n",
       "12. 0\n",
       "13. 0\n",
       "14. 0\n",
       "15. 0\n",
       "16. 0\n",
       "17. 0\n",
       "\n",
       "\n"
      ],
      "text/plain": [
       " [1] 1 1 1 1 1 1 1 0 0 0 0 0 0 0 0 0 0"
      ]
     },
     "metadata": {},
     "output_type": "display_data"
    }
   ],
   "source": [
    "move_behind(vect, target)"
   ]
  },
  {
   "cell_type": "markdown",
   "metadata": {},
   "source": [
    "Ta có thể áp dụng bài toán này cho cả factor chứ không chỉ con số"
   ]
  },
  {
   "cell_type": "code",
   "execution_count": 12,
   "metadata": {
    "collapsed": false
   },
   "outputs": [],
   "source": [
    "vect = as.factor(c('a','b','c','c','d','b','a','a','c','a'))\n",
    "\n",
    "target = c('a')"
   ]
  },
  {
   "cell_type": "code",
   "execution_count": 13,
   "metadata": {
    "collapsed": false
   },
   "outputs": [
    {
     "data": {
      "text/html": [
       "<ol class=list-inline>\n",
       "\t<li>a</li>\n",
       "\t<li>a</li>\n",
       "\t<li>a</li>\n",
       "\t<li>a</li>\n",
       "\t<li>d</li>\n",
       "\t<li>b</li>\n",
       "\t<li>c</li>\n",
       "\t<li>c</li>\n",
       "\t<li>c</li>\n",
       "\t<li>b</li>\n",
       "</ol>\n"
      ],
      "text/latex": [
       "\\begin{enumerate*}\n",
       "\\item a\n",
       "\\item a\n",
       "\\item a\n",
       "\\item a\n",
       "\\item d\n",
       "\\item b\n",
       "\\item c\n",
       "\\item c\n",
       "\\item c\n",
       "\\item b\n",
       "\\end{enumerate*}\n"
      ],
      "text/markdown": [
       "1. a\n",
       "2. a\n",
       "3. a\n",
       "4. a\n",
       "5. d\n",
       "6. b\n",
       "7. c\n",
       "8. c\n",
       "9. c\n",
       "10. b\n",
       "\n",
       "\n"
      ],
      "text/plain": [
       " [1] a a a a d b c c c b\n",
       "Levels: a b c d"
      ]
     },
     "metadata": {},
     "output_type": "display_data"
    }
   ],
   "source": [
    "move_ahead(vect, target)"
   ]
  },
  {
   "cell_type": "code",
   "execution_count": 14,
   "metadata": {
    "collapsed": false
   },
   "outputs": [
    {
     "data": {
      "text/html": [
       "<ol class=list-inline>\n",
       "\t<li>c</li>\n",
       "\t<li>b</li>\n",
       "\t<li>c</li>\n",
       "\t<li>c</li>\n",
       "\t<li>d</li>\n",
       "\t<li>b</li>\n",
       "\t<li>a</li>\n",
       "\t<li>a</li>\n",
       "\t<li>a</li>\n",
       "\t<li>a</li>\n",
       "</ol>\n"
      ],
      "text/latex": [
       "\\begin{enumerate*}\n",
       "\\item c\n",
       "\\item b\n",
       "\\item c\n",
       "\\item c\n",
       "\\item d\n",
       "\\item b\n",
       "\\item a\n",
       "\\item a\n",
       "\\item a\n",
       "\\item a\n",
       "\\end{enumerate*}\n"
      ],
      "text/markdown": [
       "1. c\n",
       "2. b\n",
       "3. c\n",
       "4. c\n",
       "5. d\n",
       "6. b\n",
       "7. a\n",
       "8. a\n",
       "9. a\n",
       "10. a\n",
       "\n",
       "\n"
      ],
      "text/plain": [
       " [1] c b c c d b a a a a\n",
       "Levels: a b c d"
      ]
     },
     "metadata": {},
     "output_type": "display_data"
    }
   ],
   "source": [
    "move_behind(vect, target)"
   ]
  },
  {
   "cell_type": "code",
   "execution_count": null,
   "metadata": {
    "collapsed": true
   },
   "outputs": [],
   "source": []
  }
 ],
 "metadata": {
  "kernelspec": {
   "display_name": "R",
   "language": "R",
   "name": "ir"
  },
  "language_info": {
   "codemirror_mode": "r",
   "file_extension": ".r",
   "mimetype": "text/x-r-source",
   "name": "R",
   "pygments_lexer": "r",
   "version": "3.3.3"
  }
 },
 "nbformat": 4,
 "nbformat_minor": 2
}
