{
 "cells": [
  {
   "cell_type": "markdown",
   "metadata": {},
   "source": [
    "# R code interview\n",
    "\n",
    "# Bài toán 1: Double sum\n",
    "\n",
    "### Lê Ngọc Khả Nhi\n",
    "\n",
    "Giải những câu hỏi code interview là một cách luyện tập kỹ năng lập trình và giải quyết vấn đề rất tốt. Tuy nhiên, hầu hết tài liệu về code interview chỉ dành cho các ngôn ngữ lập trình như Python, Java, C... ; nhưng chưa có một thư viện tài liệu dành riêng cho ngôn ngữ R.\n",
    "\n",
    "Bài thứ 1 này chúng ta sẽ giải một bài toán khá đơn giản 'double sum', yêu cầu của nó như sau:\n",
    "\n",
    "Cho 1 vector V gồm n con số, và một giá trị mục tiêu, hãy viết 1 hàm dùng R code để tìm 2 con số có tổng bằng với giá trị mục tiêu.\n",
    "\n",
    "# Phân tích bài toán:\n",
    "\n",
    "Dữ liệu đầu vào là 1 vector, thí dụ c(3, 5, -4, 8, 11, 1, -1, 6) và 1 con số target_sum (int), thí dụ target_sum = 10\n",
    "\n",
    "Kết quả đầu ra là 1 vector c(x, y), thỏa điều kiện: x,y nằm trong vector và x+y = target_sum\n",
    "Nếu không tìm ra x,y thỏa điều kiện, hàm xuất ra kết quả NULL\n",
    "\n",
    "\n",
    "# Đáp án thứ 1:\n",
    "\n",
    "Định hướng giải quyết :\n",
    "\n",
    "Nhiều người sẽ nghĩ ngay đến cách dùng 2 vòng lặp for lồng vào nhau, vòng lặp thứ nhất sẽ di chuyển tuần tự qua tất cả phần tử trong vector (tìm x), tại mỗi vị trí, vòng lặp thứ 2 sẽ dùng 1 condition if để kiểm tra tổng của x và tất cả những phần tử còn lại (tìm y), nếu tìm ra y, sẽ xuất kết quả c(x,y). \n",
    "\n",
    "Đánh giá: Cách làm này đơn giản, tuy nhiên có nhược điểm là tốc độ chậm, vì dùng 2 vòng lặp for nên nó có hiệu suất thời gian kém là O(n^2), và hiệu suất không gian lưu trữ là O(1) (mỗi bước chỉ dùng 1 index trong vector)"
   ]
  },
  {
   "cell_type": "code",
   "execution_count": 1,
   "metadata": {
    "collapsed": true
   },
   "outputs": [],
   "source": [
    "double_sum_1 <- function(vector, target_sum){\n",
    "  for (i in seq(1, length(vector), 1)){\n",
    "    first <- vector[i]\n",
    "    for (j in seq((i+1), length(vector), 1)){\n",
    "      second = vector[j]\n",
    "      if ((first + second) == target_sum){\n",
    "        return(c(first, second))\n",
    "      }\n",
    "    }\n",
    "  }\n",
    "  return(NULL)\n",
    "}"
   ]
  },
  {
   "cell_type": "code",
   "execution_count": 2,
   "metadata": {
    "collapsed": true
   },
   "outputs": [],
   "source": [
    "test = c(3, 5, -4, 8, 11, 1, -1, 6) "
   ]
  },
  {
   "cell_type": "code",
   "execution_count": 3,
   "metadata": {
    "collapsed": false
   },
   "outputs": [
    {
     "data": {
      "text/html": [
       "<ol class=list-inline>\n",
       "\t<li>11</li>\n",
       "\t<li>-1</li>\n",
       "</ol>\n"
      ],
      "text/latex": [
       "\\begin{enumerate*}\n",
       "\\item 11\n",
       "\\item -1\n",
       "\\end{enumerate*}\n"
      ],
      "text/markdown": [
       "1. 11\n",
       "2. -1\n",
       "\n",
       "\n"
      ],
      "text/plain": [
       "[1] 11 -1"
      ]
     },
     "metadata": {},
     "output_type": "display_data"
    }
   ],
   "source": [
    "double_sum_1(test, 10)"
   ]
  },
  {
   "cell_type": "code",
   "execution_count": 4,
   "metadata": {
    "collapsed": false
   },
   "outputs": [
    {
     "data": {
      "text/html": [
       "<ol class=list-inline>\n",
       "\t<li>3</li>\n",
       "\t<li>6</li>\n",
       "</ol>\n"
      ],
      "text/latex": [
       "\\begin{enumerate*}\n",
       "\\item 3\n",
       "\\item 6\n",
       "\\end{enumerate*}\n"
      ],
      "text/markdown": [
       "1. 3\n",
       "2. 6\n",
       "\n",
       "\n"
      ],
      "text/plain": [
       "[1] 3 6"
      ]
     },
     "metadata": {},
     "output_type": "display_data"
    }
   ],
   "source": [
    "double_sum_1(test, 9)"
   ]
  },
  {
   "cell_type": "markdown",
   "metadata": {},
   "source": [
    "# Đáp án thứ 2:\n",
    "\n",
    "Ta có thể dùng 1 vòng lặp for duy nhất để tăng hiệu suất về thời gian; để làm việc này, ta cần nhìn vấn đề theo một cách khác: thay vì tìm riêng biệt x, y, thực ra ta chỉ cần dùng 1 vòng lặp for duy nhất, mỗi lượt ta ở vị trí của x, rồi ta tính y = target_sum - x, sau đó đối chiếu ngay lập tức giá trị y này với 1 danh sách gồm các phần tử có khả năng là y; chỉ cần thỏa điều kiện y nằm trong danh sách này, ta xuất kết quả ngay; nếu y không nằm trong danh sách, ta cập nhật x vào danh sách.\n",
    "\n",
    "Do chỉ sử dụng 1 vòng lặp, giải pháp này có hiệu suất thời gian là O(n), nhưng ta phải đánh đổi là tăng hiệu suất lưu trữ = O(n) thay vì O(1), vì ta dùng 1 vector thứ 2 để làm danh sách kiểm tra."
   ]
  },
  {
   "cell_type": "code",
   "execution_count": 5,
   "metadata": {
    "collapsed": true
   },
   "outputs": [],
   "source": [
    "double_sum_2 <- function(vector, target_sum){\n",
    "  nums = c()\n",
    "  for (n in vector){\n",
    "    match <- target_sum - n\n",
    "    if (match %in% nums){\n",
    "      return(c(match, n))\n",
    "    }\n",
    "    else{ nums <- c(nums, n)}\n",
    "  }\n",
    "  return(NULL)\n",
    "}"
   ]
  },
  {
   "cell_type": "code",
   "execution_count": 6,
   "metadata": {
    "collapsed": false
   },
   "outputs": [
    {
     "data": {
      "text/html": [
       "<ol class=list-inline>\n",
       "\t<li>11</li>\n",
       "\t<li>-1</li>\n",
       "</ol>\n"
      ],
      "text/latex": [
       "\\begin{enumerate*}\n",
       "\\item 11\n",
       "\\item -1\n",
       "\\end{enumerate*}\n"
      ],
      "text/markdown": [
       "1. 11\n",
       "2. -1\n",
       "\n",
       "\n"
      ],
      "text/plain": [
       "[1] 11 -1"
      ]
     },
     "metadata": {},
     "output_type": "display_data"
    }
   ],
   "source": [
    "double_sum_2(test, 10)"
   ]
  },
  {
   "cell_type": "code",
   "execution_count": 7,
   "metadata": {
    "collapsed": false
   },
   "outputs": [
    {
     "data": {
      "text/html": [
       "<ol class=list-inline>\n",
       "\t<li>8</li>\n",
       "\t<li>1</li>\n",
       "</ol>\n"
      ],
      "text/latex": [
       "\\begin{enumerate*}\n",
       "\\item 8\n",
       "\\item 1\n",
       "\\end{enumerate*}\n"
      ],
      "text/markdown": [
       "1. 8\n",
       "2. 1\n",
       "\n",
       "\n"
      ],
      "text/plain": [
       "[1] 8 1"
      ]
     },
     "metadata": {},
     "output_type": "display_data"
    }
   ],
   "source": [
    "double_sum_2(test, 9)"
   ]
  },
  {
   "cell_type": "markdown",
   "metadata": {},
   "source": [
    "# Đáp án thứ 3:\n",
    "\n",
    "Giải pháp này rất thú vị, trước hết ta cần xếp thứ tự cho vector, theo thứ tự tăng dần. Sau đó, ta xuất phát từ vị trí đầu tiên (bên trái), và so sánh giá trị đầu tiên với vị trí lớn nhất (bên phải), nếu tổng của chúng = mục tiêu, ta xuất ra kết quả, nếu tổng này nhỏ hơn mục tiêu, ta sẽ giữ nguyên đầu bên phải và cho đầu bên trái tiến lên 1 bước, nếu tổng này lớn hơn mục tiêu, ta sẽ giữ nguyên đầu bên trái và lùi đầu bên phải về 1 bước, cứ thế khoảng cách cần kiểm tra sẽ thu hẹp dần; nên trên thực tế ta sẽ mất rất ít thời gian.\n",
    "\n",
    "Giải pháp này có hiệu suất thời gian O(n* log((n)) và hiệu suất không gian là O(1).\n",
    "\n",
    "Đây là giải pháp tối ưu, vì cân bằng giữa tốc độ và không gian lưu trữ."
   ]
  },
  {
   "cell_type": "code",
   "execution_count": 8,
   "metadata": {
    "collapsed": true
   },
   "outputs": [],
   "source": [
    "double_sum_3 <- function(vector, target_sum){\n",
    "  av <- sort(vector)\n",
    "  left <- 1\n",
    "  right <- length(av)\n",
    "  \n",
    "  while(left < right){\n",
    "    cur_sum <- av[left] + av[right]\n",
    "    if (cur_sum == target_sum){\n",
    "      return(c(av[left], av[right]))\n",
    "    }\n",
    "    else if(cur_sum < target_sum){\n",
    "      left <- left + 1\n",
    "    }\n",
    "    else if (cur_sum > target_sum){\n",
    "      right <- right - 1}\n",
    "    }\n",
    "  return(NULL)\n",
    "  }"
   ]
  },
  {
   "cell_type": "code",
   "execution_count": 9,
   "metadata": {
    "collapsed": false
   },
   "outputs": [
    {
     "data": {
      "text/html": [
       "<ol class=list-inline>\n",
       "\t<li>-1</li>\n",
       "\t<li>11</li>\n",
       "</ol>\n"
      ],
      "text/latex": [
       "\\begin{enumerate*}\n",
       "\\item -1\n",
       "\\item 11\n",
       "\\end{enumerate*}\n"
      ],
      "text/markdown": [
       "1. -1\n",
       "2. 11\n",
       "\n",
       "\n"
      ],
      "text/plain": [
       "[1] -1 11"
      ]
     },
     "metadata": {},
     "output_type": "display_data"
    }
   ],
   "source": [
    "double_sum_3(test, 10)"
   ]
  },
  {
   "cell_type": "code",
   "execution_count": 10,
   "metadata": {
    "collapsed": false
   },
   "outputs": [
    {
     "data": {
      "text/html": [
       "<ol class=list-inline>\n",
       "\t<li>1</li>\n",
       "\t<li>8</li>\n",
       "</ol>\n"
      ],
      "text/latex": [
       "\\begin{enumerate*}\n",
       "\\item 1\n",
       "\\item 8\n",
       "\\end{enumerate*}\n"
      ],
      "text/markdown": [
       "1. 1\n",
       "2. 8\n",
       "\n",
       "\n"
      ],
      "text/plain": [
       "[1] 1 8"
      ]
     },
     "metadata": {},
     "output_type": "display_data"
    }
   ],
   "source": [
    "double_sum_3(test, 9)"
   ]
  }
 ],
 "metadata": {
  "kernelspec": {
   "display_name": "R",
   "language": "R",
   "name": "ir"
  },
  "language_info": {
   "codemirror_mode": "r",
   "file_extension": ".r",
   "mimetype": "text/x-r-source",
   "name": "R",
   "pygments_lexer": "r",
   "version": "3.3.3"
  }
 },
 "nbformat": 4,
 "nbformat_minor": 2
}
