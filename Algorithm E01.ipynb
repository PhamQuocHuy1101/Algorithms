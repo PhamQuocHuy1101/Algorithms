{
 "cells": [
  {
   "cell_type": "markdown",
   "metadata": {},
   "source": [
    "# Algorithm với ngôn ngữ Python\n",
    "\n",
    "## Bài 1: Đếm tần suất cơn ho và thở khò khè\n",
    "\n",
    "### Bs. Lê Ngọc Khả Nhi\n",
    "\n",
    "Thân chào các bạn, algorithms là đề tài thú vị khi làm việc với một ngôn ngữ lập trình. Việc học algorithm mang lại lợi ích quan trọng, ngay cả cho người bác sĩ, vì nó rèn luyện cho người học khả năng tận dụng một cách tối ưu những công cụ có sẵn để giải quyết một vấn đề thực tiễn; mà trên hành trình nghiên cứu y học ta sẽ gặp rất nhiều vấn đề, và nếu không may - vấn đề đó chưa từng được người đi trước giải quyết, bạn sẽ phải tự mình làm việc này.\n",
    "\n",
    "# Bài toán cần giải quyết\n",
    "\n",
    "Trong thí dụ sau, một nhóm nghiên cứu chế tạo ra một mô hình Deep learning phân tích tín hiệu âm thanh từ microphone cho phép phát hiện những cơn ho và cơn khó thở khò khè của bệnh nhân. Giả định kết quả của mô hình là một chuỗi giá trị gồm 3 con số: 0 = Bình thường, 1 = Ho, 2 = Thở khò khè. Các bác sĩ muốn chuyển kết quả của mô hình thành 1 điểm số lâm sàng : số cơn ho trung bình / 1 giờ và số cơ thở khỏ khè / 10 phút; được xác định một cách đơn giản bằng cách lấy tổng số cơn ho hoặc khó thở và chia cho tổng thời gian ghi âm tính bằng giờ. Họ cũng quy ước rằng khi có nhiều labels liên tiếp = 1 thì được tính như 1 cơn ho kéo dài, tương tự cho thở khò khè. \n",
    "\n",
    "Như vậy ta có một bài toán như sau:\n",
    "\n",
    "Dữ liệu đầu vào: chuỗi dữ liệu số nguyên (integer list hoặc numpy array)\n",
    "\n",
    "Mục tiêu: Đếm tần suất các cụm giá trị lặp lại của 0,1,2, độ dài ngắn nhất = 1, dài nhất = toàn bộ chuỗi\n",
    "\n",
    "Sau đây, Nhi sẽ đề xuất giải pháp cho bài toán.\n",
    "\n",
    "Đầu tiên, ta mô phỏng chuỗi giá trị đầu vào bằng numpy.random, với độ dài 600 giây"
   ]
  },
  {
   "cell_type": "code",
   "execution_count": 56,
   "metadata": {},
   "outputs": [
    {
     "data": {
      "text/plain": [
       "array([1, 0, 0, 1, 2, 0, 2, 1, 0, 0])"
      ]
     },
     "execution_count": 56,
     "metadata": {},
     "output_type": "execute_result"
    }
   ],
   "source": [
    "import numpy as np\n",
    "\n",
    "np.random.seed(123)\n",
    "seq = np.random.choice([0,1,2],\n",
    "                        size = 3600, \n",
    "                        p = [0.5,0.2,0.3])\n",
    "\n",
    "seq[0:10]"
   ]
  },
  {
   "cell_type": "markdown",
   "metadata": {},
   "source": [
    "# Câu hỏi thứ 1\n",
    "\n",
    "Câu hỏi quan trọng nhất trong bài toán này, đó là: làm cách nào ta có thể gom những giá trị lặp lại liên tục thành một biến cố kéo dài, và phân lập biến cố này với trạng thái trước và sau nó ?\n",
    "\n",
    "Giải pháp cho câu hỏi này đơn giản không ngờ: Ta chỉ cần phát hiện tất cả vị trí chuyển tiếp từ trạng thái này sang trạng thái khác, hoặc câu hỏi: giá trị ở vị trí t+1 có khác với vị trí t hay không ? Để giải quyết, ta chỉ cần so sánh 2 array seq[1:] và seq[:-1]\n",
    "\n",
    "Ta thử làm nháp:"
   ]
  },
  {
   "cell_type": "code",
   "execution_count": 4,
   "metadata": {},
   "outputs": [
    {
     "data": {
      "text/plain": [
       "array([ True, False,  True,  True,  True])"
      ]
     },
     "execution_count": 4,
     "metadata": {},
     "output_type": "execute_result"
    }
   ],
   "source": [
    "x = np.array([1,0,0,2,1,2])\n",
    "\n",
    "mask = x[1:] != x[:-1]\n",
    "\n",
    "mask"
   ]
  },
  {
   "cell_type": "markdown",
   "metadata": {},
   "source": [
    "Như vậy, object mask chính là tất cả vị trí chuyển đổi, thí dụ từ 1 thành 0, từ 0 thành 2, từ 2 thành 1 và cuối cùng từ 1 thành 2.\n",
    "\n",
    "Nếu ta chồng mask này lên chuỗi x[:-1], ta sẽ phân lập được tất cả những cụm biến cố đã xảy ra."
   ]
  },
  {
   "cell_type": "code",
   "execution_count": 5,
   "metadata": {},
   "outputs": [
    {
     "data": {
      "text/plain": [
       "array([1, 0, 2, 1])"
      ]
     },
     "execution_count": 5,
     "metadata": {},
     "output_type": "execute_result"
    }
   ],
   "source": [
    "x[:-1][mask]"
   ]
  },
  {
   "cell_type": "markdown",
   "metadata": {},
   "source": [
    "Tuy nhiên, ta không quên biến cố cuối cùng (vị trí -1), ta chỉ cần ghép nó vào list kết quả"
   ]
  },
  {
   "cell_type": "code",
   "execution_count": 7,
   "metadata": {},
   "outputs": [
    {
     "data": {
      "text/plain": [
       "array([1, 0, 2, 1, 2])"
      ]
     },
     "execution_count": 7,
     "metadata": {},
     "output_type": "execute_result"
    }
   ],
   "source": [
    "np.append(x[:-1][mask], x[-1])"
   ]
  },
  {
   "cell_type": "markdown",
   "metadata": {},
   "source": [
    "Ta đưa giải pháp này vào hàm isolate_events()"
   ]
  },
  {
   "cell_type": "code",
   "execution_count": 24,
   "metadata": {},
   "outputs": [],
   "source": [
    "def isolate_events(x):\n",
    "    \n",
    "    # nếu x rỗng hay chỉ có 1 phần tử, kết quả là chính nó\n",
    "    \n",
    "    if len(x) <= 1:\n",
    "        return x\n",
    "    \n",
    "    # Nếu x chỉ chứa toàn 1 giá trị, trả kết quả là giá trị đó\n",
    "    \n",
    "    elif len(np.unique(x)) == 1:\n",
    "        return x[0]\n",
    "    \n",
    "    # Nếu không, phân lập các biến cố\n",
    "    else:\n",
    "        mask = x[1:] != x[:-1]\n",
    "        return np.append(x[:-1][mask], x[-1])"
   ]
  },
  {
   "cell_type": "markdown",
   "metadata": {},
   "source": [
    "Thử hàm này lần lượt cho các trường hợp:"
   ]
  },
  {
   "cell_type": "code",
   "execution_count": 25,
   "metadata": {},
   "outputs": [
    {
     "data": {
      "text/plain": [
       "1"
      ]
     },
     "execution_count": 25,
     "metadata": {},
     "output_type": "execute_result"
    }
   ],
   "source": [
    "# Không có điểm chuyển tiếp nào\n",
    "\n",
    "x = np.array([1,1,1,1,1,1])\n",
    "\n",
    "isolate_events(x)"
   ]
  },
  {
   "cell_type": "code",
   "execution_count": 26,
   "metadata": {},
   "outputs": [
    {
     "data": {
      "text/plain": [
       "array([], dtype=float64)"
      ]
     },
     "execution_count": 26,
     "metadata": {},
     "output_type": "execute_result"
    }
   ],
   "source": [
    "# x rỗng\n",
    "\n",
    "x = np.array([])\n",
    "\n",
    "isolate_events(x)"
   ]
  },
  {
   "cell_type": "code",
   "execution_count": 27,
   "metadata": {},
   "outputs": [
    {
     "data": {
      "text/plain": [
       "array([2])"
      ]
     },
     "execution_count": 27,
     "metadata": {},
     "output_type": "execute_result"
    }
   ],
   "source": [
    "# x chi có 1 phần tử\n",
    "\n",
    "x = np.array([2])\n",
    "\n",
    "isolate_events(x)"
   ]
  },
  {
   "cell_type": "code",
   "execution_count": 28,
   "metadata": {},
   "outputs": [
    {
     "data": {
      "text/plain": [
       "array([0, 1, 2])"
      ]
     },
     "execution_count": 28,
     "metadata": {},
     "output_type": "execute_result"
    }
   ],
   "source": [
    "# Điểm chuyển tiếp nằm ngay trước giá trị cuối cùng\n",
    "\n",
    "x = np.array([0,1,1,1,1,2])\n",
    "\n",
    "isolate_events(x)"
   ]
  },
  {
   "cell_type": "code",
   "execution_count": 30,
   "metadata": {},
   "outputs": [
    {
     "data": {
      "text/plain": [
       "array([0, 1, 0, 2, 1])"
      ]
     },
     "execution_count": 30,
     "metadata": {},
     "output_type": "execute_result"
    }
   ],
   "source": [
    "# Điểm chuyển tiếp nằm rải rác\n",
    "\n",
    "x = np.array([0,1,1,0,0,2,1])\n",
    "\n",
    "isolate_events(x)"
   ]
  },
  {
   "cell_type": "markdown",
   "metadata": {},
   "source": [
    "# Câu hỏi thứ 2:\n",
    "\n",
    "Như vậy ta đã giải quyết xong phần khó nhất của bài toán, bước tiếp theo là đếm tần suất xuất hiện của các giá trị trong danh sách các biến cố. Đây là 1 bài toán binary search kinh điển, ta có rất nhiều cách để giải nó, nhưng Nhi sẽ dùng giải pháp hàm đệ quy:\n",
    "\n",
    "Hàm này sẽ đối chiếu 1 target (thí dụ: 0,1,2) với nội dung trong list seq, và xuất ra tổng số lần tìm thấy target."
   ]
  },
  {
   "cell_type": "code",
   "execution_count": 32,
   "metadata": {},
   "outputs": [],
   "source": [
    "def recursive_count(seq, target):\n",
    "    \n",
    "    if len(seq) == 0:\n",
    "        return(0)\n",
    "    \n",
    "    if seq[0] not in target:\n",
    "        return recursive_count(seq[1:], target)\n",
    "    else:\n",
    "        return 1 + recursive_count(seq[1:], target)"
   ]
  },
  {
   "cell_type": "markdown",
   "metadata": {},
   "source": [
    "test 2 hàm  kết hợp trên x:"
   ]
  },
  {
   "cell_type": "code",
   "execution_count": 37,
   "metadata": {},
   "outputs": [
    {
     "data": {
      "text/plain": [
       "2"
      ]
     },
     "execution_count": 37,
     "metadata": {},
     "output_type": "execute_result"
    }
   ],
   "source": [
    "recursive_count(isolate_events(x), [0])"
   ]
  },
  {
   "cell_type": "code",
   "execution_count": 38,
   "metadata": {},
   "outputs": [
    {
     "data": {
      "text/plain": [
       "2"
      ]
     },
     "execution_count": 38,
     "metadata": {},
     "output_type": "execute_result"
    }
   ],
   "source": [
    "recursive_count(isolate_events(x), [1])"
   ]
  },
  {
   "cell_type": "code",
   "execution_count": 39,
   "metadata": {},
   "outputs": [
    {
     "data": {
      "text/plain": [
       "1"
      ]
     },
     "execution_count": 39,
     "metadata": {},
     "output_type": "execute_result"
    }
   ],
   "source": [
    "recursive_count(isolate_events(x), [2])"
   ]
  },
  {
   "cell_type": "markdown",
   "metadata": {},
   "source": [
    "# Đóng gói\n",
    "\n",
    "Mọi thứ đều tốt ! Bây giờ ta chỉ cần đóng gói lại 2 hàm nói trên vào 1 hàm count_events(), cho phép đếm tần suất cơn ho (1), thở khò khè (2) và giai đoạn bình thường (0) và lưu kết quả vào 1 dictionary:"
   ]
  },
  {
   "cell_type": "code",
   "execution_count": 51,
   "metadata": {},
   "outputs": [],
   "source": [
    "def count_events(seq = None, labels = [0,1,2]):\n",
    "    \n",
    "    # Tạo place holder là 1 dictionary có key = target label\n",
    "    count_dict = {lb:[] for lb in labels}\n",
    "    \n",
    "    # Vòng lặp: đếm biến cố cho mỗi key\n",
    "    \n",
    "    for lb in count_dict:\n",
    "        event_list = isolate_events(seq)\n",
    "        total_event = recursive_count(event_list, [lb])\n",
    "        count_dict[lb] = total_event\n",
    "        \n",
    "    return count_dict"
   ]
  },
  {
   "cell_type": "markdown",
   "metadata": {},
   "source": [
    "Ta test hàm này trên x:"
   ]
  },
  {
   "cell_type": "code",
   "execution_count": 58,
   "metadata": {},
   "outputs": [
    {
     "data": {
      "text/plain": [
       "{0: 4, 1: 5, 2: 3}"
      ]
     },
     "execution_count": 58,
     "metadata": {},
     "output_type": "execute_result"
    }
   ],
   "source": [
    "x = np.array([0,0,0,1,1,0,0,2,2,2,2,1,1,2,2,1,0,0,2,1,0,1])\n",
    "\n",
    "count_events(x, labels = [0,1,2])"
   ]
  },
  {
   "cell_type": "markdown",
   "metadata": {},
   "source": [
    "Bây giờ ta áp dụng hàm này trên chuỗi dữ liệu seq có độ dài 3600:\n",
    "\n",
    "Ghi chú: Mặc định thì Python chỉ cho phép 1 hàm tự gọi chính nó 1000 lượt, nếu chuỗi seq quá dài, có thể bạn cần nâng hạn mức này lên cao hơn:"
   ]
  },
  {
   "cell_type": "code",
   "execution_count": 61,
   "metadata": {},
   "outputs": [],
   "source": [
    "import sys\n",
    "sys.setrecursionlimit(1500)"
   ]
  },
  {
   "cell_type": "code",
   "execution_count": 59,
   "metadata": {},
   "outputs": [
    {
     "data": {
      "text/plain": [
       "{0: 918, 1: 566, 2: 766}"
      ]
     },
     "execution_count": 59,
     "metadata": {},
     "output_type": "execute_result"
    }
   ],
   "source": [
    "count_events(seq, labels = [0,1,2])"
   ]
  },
  {
   "cell_type": "markdown",
   "metadata": {},
   "source": [
    "Kết quả nằm gọn trong dictionary, theo đó ta có 918 cụm trạng thái bình thường (0), 566 cụm biến cố là cơn ho (1) và 766 cụm biến cố thở khò khè."
   ]
  },
  {
   "cell_type": "markdown",
   "metadata": {},
   "source": [
    "# Tóm tắt\n",
    "\n",
    "Những chiêu thức sử dụng trong bài bao gồm:\n",
    "\n",
    "+ Hàm đệ quy (recursive function)\n",
    "\n",
    "+ dictionary comprehension\n",
    "\n",
    "+ numpy array slicing, indexing và append\n",
    "\n",
    "+ boolean mask\n",
    "\n",
    "+ Vòng lặp for\n",
    "\n",
    "Chúc các bạn thực hành vui và hẹn gặp lại."
   ]
  },
  {
   "cell_type": "code",
   "execution_count": null,
   "metadata": {},
   "outputs": [],
   "source": []
  }
 ],
 "metadata": {
  "hide_input": false,
  "kernelspec": {
   "display_name": "Python 3",
   "language": "python",
   "name": "python3"
  },
  "language_info": {
   "codemirror_mode": {
    "name": "ipython",
    "version": 3
   },
   "file_extension": ".py",
   "mimetype": "text/x-python",
   "name": "python",
   "nbconvert_exporter": "python",
   "pygments_lexer": "ipython3",
   "version": "3.7.4"
  },
  "toc": {
   "base_numbering": 1,
   "nav_menu": {},
   "number_sections": true,
   "sideBar": true,
   "skip_h1_title": false,
   "title_cell": "Table of Contents",
   "title_sidebar": "Contents",
   "toc_cell": false,
   "toc_position": {},
   "toc_section_display": true,
   "toc_window_display": false
  }
 },
 "nbformat": 4,
 "nbformat_minor": 2
}
