{
 "cells": [
  {
   "cell_type": "markdown",
   "metadata": {},
   "source": [
    "\n",
    "#  Bài toán Phân cụm và di dời trong list\n",
    "\n",
    "### Lê Ngọc Khả Nhi\n",
    "\n",
    "# Yêu cầu\n",
    "\n",
    "Cho một vector V chứa n con số, và một giá trị mục tiêu, hãy viết 2 hàm bằng ngôn ngữ R để tìm tất cả những con số trong V có giá trị bằng với mục tiêu, gom chúng lại thành một cụm và di dời toàn bộ cụm này về đầu hoặc cuối vector.\n",
    "Phân tích bài toán\n",
    "\n",
    "Dữ liệu đầu vào của hàm là 1 list, thí dụ: [0, 1, 2, 5, 5, 3, 4, 6, 7, 5, 8, 9, 10, 11, 5, 5, 12] và 1 giá trị mục tiêu (target), thí dụ target = 5\n",
    "\n",
    "Kết quả đầu ra là 1 list mới, trong đó toàn bộ phần tử có giá trị = 5 được di dời về đầu hoặc cuối:\n",
    "\n",
    "Về cuối: [0 1 2 12 11 3 4 6 7 10 8 9 5 5 5 5 5] Về đầu [5 5 5 5 5 3 4 6 7 2 8 9 10 11 1 0 12]\n",
    "\n",
    "Nhận xét: Những giá trị còn lại (khác với target) vẫn giữ nguyên thứ tự ban đầu\n",
    "\n",
    "# Định hướng giải quyết\n",
    "\n",
    "Nhận xét: Hai yêu cầu (di chuyển về đầu/ về cuối) có cùng bản chất, nếu giải quyết được cái này thì cũng làm được cái kia theo cùng một cách.\n",
    "\n",
    "Thực ra ta không làm việc \"phân cụm\", nhưng di dời mới là việc cần quan tâm, ta chỉ di dời từng phần tử một, cụm chính là kết quả cuối cùng của việc di dời.\n",
    "\n",
    "Ta xét bài toán thứ 1: nhận diện và di dời về đầu chuỗi\n",
    "\n",
    "Trên 1 chuỗi số có 2 hướng: đầu (head) và cuối (queue), ta có thể dùng 2 pointer h, q :\n",
    "\n",
    "1) pointer h khởi đầu ở vị trí đầu tiên: h=1, và di chuyển về bên phải, công dụng để kiểm tra xem giá trị mục tiêu có phải đang ở đầu list hay không (vì nếu đúng, ta không phải làm gì cả, chỉ cần tiếp tục tiến sang phải 1 vị trí : h+1)\n",
    "\n",
    "2) pointer q khởi đầu ở vị trí cuối cùng = length(vect), và di chuyển sang trái, công dụng là để nhận diện 1 phần tử có giá trị = mục tiêu, nhưng đang nằm ở cuối list (cần di dời về đầu)\n",
    "\n",
    "3) Việc di dời chính là hoán đổi h thành q, và ngược lại q thành h\n",
    "\n",
    "Ngôn ngữ Python cho phép hoán chuyển trực tiếp vect[h], vect[q] = vect[q], vect[h], dùng tuples\n",
    "\n",
    "4) Khi h và q giao nhau (hay h == q), cho thấy ta đã kiểm tra xong tất cả phần tử trong list\n",
    "\n",
    "5) Khi nào h còn ở bên trái q: (h < q), ta còn phải tiếp tục quy trình.\n",
    "\n",
    "Ta có thể dùng 2 vòng lặp while lồng vào nhau để làm quy trình này"
   ]
  },
  {
   "cell_type": "code",
   "execution_count": 12,
   "metadata": {},
   "outputs": [],
   "source": [
    "def move_ahead(lst, target):\n",
    "\th = 0\n",
    "\tq = len(lst) - 1\n",
    "\twhile q > h:\n",
    "\t\twhile q > h and lst[h] == target:\n",
    "\t\t\th += 1\n",
    "\t\tif lst[q] == target:\n",
    "\t\t\tlst[h], lst[q] = lst[q], lst[h]\n",
    "\t\tq -= 1\n",
    "\treturn lst"
   ]
  },
  {
   "cell_type": "code",
   "execution_count": 2,
   "metadata": {},
   "outputs": [],
   "source": [
    "lst = [0, 1, 2, 5, 5, 3, 4, 6, 7, 5, 8, 9, 10, 11, 5, 5, 12]\n",
    "\n",
    "target = 5"
   ]
  },
  {
   "cell_type": "code",
   "execution_count": 13,
   "metadata": {},
   "outputs": [
    {
     "data": {
      "text/plain": [
       "[5, 5, 5, 5, 5, 3, 4, 6, 7, 10, 8, 9, 11, 12, 2, 1, 0]"
      ]
     },
     "execution_count": 13,
     "metadata": {},
     "output_type": "execute_result"
    }
   ],
   "source": [
    "move_ahead(lst, target)"
   ]
  },
  {
   "cell_type": "code",
   "execution_count": 6,
   "metadata": {},
   "outputs": [],
   "source": [
    "def move_behind(lst, target):\n",
    "\th = 0\n",
    "\tq = len(lst) - 1\n",
    "\twhile q > h:\n",
    "\t\twhile q > h and lst[q] == target:\n",
    "\t\t\tq -= 1\n",
    "\t\tif lst[h] == target:\n",
    "\t\t\tlst[h], lst[q] = lst[q], lst[h]\n",
    "\t\th += 1\n",
    "\treturn lst"
   ]
  },
  {
   "cell_type": "code",
   "execution_count": 7,
   "metadata": {},
   "outputs": [
    {
     "data": {
      "text/plain": [
       "[0, 1, 2, 12, 11, 3, 4, 6, 7, 10, 8, 9, 5, 5, 5, 5, 5]"
      ]
     },
     "execution_count": 7,
     "metadata": {},
     "output_type": "execute_result"
    }
   ],
   "source": [
    "move_behind(lst, target)"
   ]
  },
  {
   "cell_type": "code",
   "execution_count": 14,
   "metadata": {},
   "outputs": [],
   "source": [
    "lst = list('abbcabcabcacababccbba')\n",
    "\n",
    "target = 'a'"
   ]
  },
  {
   "cell_type": "code",
   "execution_count": 16,
   "metadata": {},
   "outputs": [
    {
     "name": "stdout",
     "output_type": "stream",
     "text": [
      "['a', 'a', 'a', 'a', 'a', 'a', 'a', 'c', 'b', 'c', 'b', 'c', 'c', 'b', 'b', 'b', 'c', 'c', 'b', 'b', 'b']\n"
     ]
    }
   ],
   "source": [
    "print(move_ahead(lst, target))"
   ]
  },
  {
   "cell_type": "code",
   "execution_count": 17,
   "metadata": {},
   "outputs": [
    {
     "name": "stdout",
     "output_type": "stream",
     "text": [
      "['b', 'b', 'b', 'c', 'c', 'b', 'b', 'c', 'b', 'c', 'b', 'c', 'c', 'b', 'a', 'a', 'a', 'a', 'a', 'a', 'a']\n"
     ]
    }
   ],
   "source": [
    "print(move_behind(lst, target))"
   ]
  },
  {
   "cell_type": "code",
   "execution_count": null,
   "metadata": {},
   "outputs": [],
   "source": []
  }
 ],
 "metadata": {
  "hide_input": false,
  "kernelspec": {
   "display_name": "Python 3",
   "language": "python",
   "name": "python3"
  },
  "language_info": {
   "codemirror_mode": {
    "name": "ipython",
    "version": 3
   },
   "file_extension": ".py",
   "mimetype": "text/x-python",
   "name": "python",
   "nbconvert_exporter": "python",
   "pygments_lexer": "ipython3",
   "version": "3.7.6"
  },
  "toc": {
   "base_numbering": 1,
   "nav_menu": {},
   "number_sections": true,
   "sideBar": true,
   "skip_h1_title": false,
   "title_cell": "Table of Contents",
   "title_sidebar": "Contents",
   "toc_cell": false,
   "toc_position": {},
   "toc_section_display": true,
   "toc_window_display": false
  }
 },
 "nbformat": 4,
 "nbformat_minor": 4
}
